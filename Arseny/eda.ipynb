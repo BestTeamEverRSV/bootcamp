{
 "cells": [
  {
   "cell_type": "code",
   "execution_count": 124,
   "metadata": {},
   "outputs": [],
   "source": [
    "import pandas as pd\n",
    "import ast\n",
    "import numpy as np"
   ]
  },
  {
   "cell_type": "code",
   "execution_count": 151,
   "metadata": {},
   "outputs": [],
   "source": [
    "def func(lst, metr):\n",
    "    if isinstance(lst, float):\n",
    "        return None\n",
    "    series = pd.Series(ast.literal_eval(lst))\n",
    "    if metr == 'sdnn':\n",
    "        return series.std()\n",
    "    elif metr == 'rmssd':\n",
    "        return np.sqrt(np.mean(series.diff()**2))\n",
    "    elif metr == 'nn50':\n",
    "        return np.sum(series.diff().abs() > 0.05)\n",
    "    elif metr == 'pnn50':\n",
    "        return (np.sum(series.diff().abs() > 0.05)) / (len(series) - 1) * 100 \n",
    "    else:\n",
    "        return None\n",
    "    \n",
    "\n",
    "def calc_all_cells(data, func):\n",
    "    metr = ['sdnn', 'rmssd', 'nn50', 'pnn50']\n",
    "    typ = ['stand_rrg', 'lying_rrg', 'stand_rrn', 'lying_rrn']\n",
    "    for i in typ:\n",
    "        for j in metr:\n",
    "            data[i + '_' + j] = data[i].map(lambda x: func(x, j))\n",
    "    return data"
   ]
  },
  {
   "cell_type": "code",
   "execution_count": 152,
   "metadata": {},
   "outputs": [],
   "source": [
    "data = pd.read_csv('arterial_hypertension.csv')\n",
    "data_a = calc_all_cells(data, func)\n",
    "data_a.to_csv('arterial_hypertension_new_cols.csv')\n",
    "\n",
    "data = pd.read_csv('healthy.csv')\n",
    "data_b = calc_all_cells(data, func)\n",
    "data_b.to_csv('healthy_new_cols.csv')\n",
    "\n",
    "data = pd.read_csv('myocardial_infarction_6mo.csv')\n",
    "data_c = calc_all_cells(data, func)\n",
    "data_c.to_csv('myocardial_infarction_6mo_new_cols.csv')\n",
    "\n",
    "data = pd.read_csv('myocardial_infarction.csv')\n",
    "data_d = calc_all_cells(data, func)\n",
    "data_d.to_csv('myocardial_infarction_new_cols.csv')\n"
   ]
  },
  {
   "cell_type": "code",
   "execution_count": 157,
   "metadata": {},
   "outputs": [
    {
     "data": {
      "text/plain": [
       "array([None], dtype=object)"
      ]
     },
     "execution_count": 157,
     "metadata": {},
     "output_type": "execute_result"
    }
   ],
   "source": [
    "data_d.stand_rrg_nn50.unique()"
   ]
  },
  {
   "cell_type": "code",
   "execution_count": null,
   "metadata": {},
   "outputs": [],
   "source": []
  }
 ],
 "metadata": {
  "kernelspec": {
   "display_name": "Python 3",
   "language": "python",
   "name": "python3"
  },
  "language_info": {
   "codemirror_mode": {
    "name": "ipython",
    "version": 3
   },
   "file_extension": ".py",
   "mimetype": "text/x-python",
   "name": "python",
   "nbconvert_exporter": "python",
   "pygments_lexer": "ipython3",
   "version": "3.12.2"
  }
 },
 "nbformat": 4,
 "nbformat_minor": 2
}
