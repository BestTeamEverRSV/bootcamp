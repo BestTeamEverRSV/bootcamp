{
 "cells": [
  {
   "cell_type": "code",
   "execution_count": 113,
   "metadata": {},
   "outputs": [],
   "source": [
    "import pandas as pd\n",
    "import os\n",
    "import re"
   ]
  },
  {
   "cell_type": "code",
   "execution_count": 122,
   "metadata": {},
   "outputs": [],
   "source": [
    "def file_to_list(file_path):\n",
    "    return pd.read_csv(file_path, skiprows=2, header=None, encoding='utf-8').iloc[:, 0].tolist()\n",
    "\n",
    "def stardart_file_name(name):\n",
    "    name = name.lower()\n",
    "    n = int(re.search(r'\\d+', name).group())\n",
    "    typ = 'stand' if 'стоя' in name else 'lyi'\n",
    "    return n, typ\n",
    "\n",
    "def folder_to_dataframe(dir_path):\n",
    "    files = os.listdir(dir_path)\n",
    "    nones = [None]* len(files)\n",
    "    data = pd.DataFrame({'n': nones, 'stand_rrg': nones, 'lying_rrg': nones, 'stand_rrn': nones, 'lying_rrn': nones})\n",
    "    for count_lines, file in enumerate(files):\n",
    "        n, typ = stardart_file_name(file)\n",
    "        file_path = os.path.join(dir_path, file)\n",
    "        if os.path.isfile(file_path):\n",
    "            if n\n",
    "            data.at[count_lines, 's'] = file_to_list(file_path)\n",
    "    return data.dropna()"
   ]
  },
  {
   "cell_type": "code",
   "execution_count": 123,
   "metadata": {},
   "outputs": [
    {
     "name": "stdout",
     "output_type": "stream",
     "text": [
      "                                                     s\n",
      "0    [0.944, 0.948, 0.944, 0.916, 0.944, 0.944, 0.9...\n",
      "2    [0.848, 0.844, 0.848, 0.856, 0.86, 0.844, 0.86...\n",
      "4    [0.58, 0.848, 0.84, 0.796, 0.824, 0.812, 0.8, ...\n",
      "6    [0.752, 0.736, 0.72, 0.72, 0.732, 0.744, 0.712...\n",
      "8    [1.016, 0.964, 0.956, 0.952, 0.984, 0.94, 0.94...\n",
      "..                                                 ...\n",
      "244  [0.74, 1.052, 1.06, 1.024, 1.032, 1.048, 1.04,...\n",
      "246  [1.036, 0.896, 0.94, 0.956, 0.912, 0.956, 0.96...\n",
      "248  [0.824, 0.872, 0.864, 0.856, 0.84, 0.868, 0.87...\n",
      "250  [1.028, 0.76, 0.756, 0.756, 0.756, 0.756, 0.74...\n",
      "252  [0.664, 0.648, 0.648, 0.624, 0.672, 0.624, 0.6...\n",
      "\n",
      "[127 rows x 1 columns]\n"
     ]
    }
   ],
   "source": [
    "print(folder_to_dataframe(\"../data/arterial_hypertension\"))"
   ]
  },
  {
   "cell_type": "code",
   "execution_count": null,
   "metadata": {},
   "outputs": [],
   "source": []
  }
 ],
 "metadata": {
  "kernelspec": {
   "display_name": "Python 3",
   "language": "python",
   "name": "python3"
  },
  "language_info": {
   "codemirror_mode": {
    "name": "ipython",
    "version": 3
   },
   "file_extension": ".py",
   "mimetype": "text/x-python",
   "name": "python",
   "nbconvert_exporter": "python",
   "pygments_lexer": "ipython3",
   "version": "3.12.2"
  }
 },
 "nbformat": 4,
 "nbformat_minor": 2
}
