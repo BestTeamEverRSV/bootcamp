{
 "cells": [
  {
   "cell_type": "code",
   "execution_count": 144,
   "metadata": {},
   "outputs": [],
   "source": [
    "import pandas as pd\n",
    "import os\n",
    "import re"
   ]
  },
  {
   "cell_type": "code",
   "execution_count": 145,
   "metadata": {},
   "outputs": [],
   "source": [
    "def file_to_list(file_path):\n",
    "    return (\n",
    "        pd.read_csv(file_path, skiprows=2, header=None, encoding=\"utf-8\")\n",
    "        .iloc[:, 0]\n",
    "        .tolist()\n",
    "    )\n",
    "\n",
    "\n",
    "def stardart_file_name_int(name):\n",
    "    name = name.lower()\n",
    "    n = int(re.search(r\"\\d+\", name).group())\n",
    "    typ = \"stand\" if \"стоя\" in name else \"lying\"\n",
    "    ext = \"rrn\" if \"rrn\" in name else \"rrg\"\n",
    "    return n, typ, ext\n",
    "\n",
    "def standard_file_name_str(name):\n",
    "    name = name.lower()\n",
    "    n = str(re.search(r\"\\d+\", name).group())\n",
    "    typ = \"stand\" if \"стоя\" in name else \"lying\"\n",
    "    ext = \"rrn\" if \"rrn\" in name else \"rrg\"\n",
    "    return n, typ, ext\n",
    "\n",
    "\n",
    "def folder_to_dataframe_int(dir_path):\n",
    "    files = os.listdir(dir_path)\n",
    "    nones = [None] * len(files)\n",
    "    data = pd.DataFrame(\n",
    "        {\n",
    "            \"n\": nones,\n",
    "            \"stand_rrg\": nones,\n",
    "            \"lying_rrg\": nones,\n",
    "            \"stand_rrn\": nones,\n",
    "            \"lying_rrn\": nones,\n",
    "        }\n",
    "    )\n",
    "    for count_lines, file in enumerate(files):\n",
    "        n, typ, ext = stardart_file_name_int(file)\n",
    "        file_path = os.path.join(dir_path, file)\n",
    "        if os.path.isfile(file_path):\n",
    "            if (data.n == n).any():\n",
    "                if data.loc[data[\"n\"] == n, typ + \"_\" + ext].isna().all():\n",
    "                    data.at[data.index[data[\"n\"] == n].tolist()[0], typ + \"_\" + ext] = file_to_list(file_path)\n",
    "                else:\n",
    "                    data.at[data.index[data[\"n\"] == n].tolist()[0], typ + \"_\" + ext] = data.at[data.index[data[\"n\"] == n].tolist()[0], typ + \"_\" + ext] + file_to_list(file_path)\n",
    "            else:\n",
    "                data.at[count_lines, typ + \"_\" + ext] = file_to_list(file_path)\n",
    "                data.at[count_lines, \"n\"] = n\n",
    "    return data.dropna(how='all')\n",
    "\n",
    "def folder_to_dataframe_str(dir_path):\n",
    "    files = os.listdir(dir_path)\n",
    "    nones = [None] * len(files)\n",
    "    data = pd.DataFrame(\n",
    "        {\n",
    "            \"n\": nones,\n",
    "            \"stand_rrg\": nones,\n",
    "            \"lying_rrg\": nones,\n",
    "            \"stand_rrn\": nones,\n",
    "            \"lying_rrn\": nones,\n",
    "        }\n",
    "    )\n",
    "    for count_lines, file in enumerate(files):\n",
    "        n, typ, ext = standard_file_name_str(file)\n",
    "        file_path = os.path.join(dir_path, file)\n",
    "        if os.path.isfile(file_path):\n",
    "            if (data[\"n\"] == n).any():\n",
    "                row_index = data.index[data[\"n\"] == n].tolist()[0]\n",
    "                if data.at[row_index, typ + \"_\" + ext] is None:\n",
    "                    data.at[row_index, typ + \"_\" + ext] = file_to_list(file_path)\n",
    "                else:\n",
    "                    data.at[row_index, typ + \"_\" + ext] += file_to_list(file_path)\n",
    "            else:\n",
    "                data.at[count_lines, \"n\"] = n\n",
    "                data.at[count_lines, typ + \"_\" + ext] = file_to_list(file_path)\n",
    "    return data.dropna(how='all')"
   ]
  },
  {
   "cell_type": "code",
   "execution_count": 146,
   "metadata": {},
   "outputs": [],
   "source": [
    "ah_data = folder_to_dataframe_str(\"../data/arterial_hypertension\")"
   ]
  },
  {
   "cell_type": "code",
   "execution_count": 147,
   "metadata": {},
   "outputs": [],
   "source": [
    "h_data = folder_to_dataframe_str(\"../data/healthy\")"
   ]
  },
  {
   "cell_type": "code",
   "execution_count": 148,
   "metadata": {},
   "outputs": [],
   "source": [
    "mi_data = folder_to_dataframe_str(\"../data/myocardial_infarction\")"
   ]
  },
  {
   "cell_type": "code",
   "execution_count": 149,
   "metadata": {},
   "outputs": [],
   "source": [
    "mi6_data = folder_to_dataframe_str(\"../data/myocardial_infarction_6mo\")"
   ]
  }
 ],
 "metadata": {
  "kernelspec": {
   "display_name": "Python 3",
   "language": "python",
   "name": "python3"
  },
  "language_info": {
   "codemirror_mode": {
    "name": "ipython",
    "version": 3
   },
   "file_extension": ".py",
   "mimetype": "text/x-python",
   "name": "python",
   "nbconvert_exporter": "python",
   "pygments_lexer": "ipython3",
   "version": "3.12.2"
  }
 },
 "nbformat": 4,
 "nbformat_minor": 2
}
